{
  "nbformat": 4,
  "nbformat_minor": 0,
  "metadata": {
    "colab": {
      "provenance": [],
      "authorship_tag": "ABX9TyM/MwhEuAiZNapqd3Wsz5Im",
      "include_colab_link": true
    },
    "kernelspec": {
      "name": "python3",
      "display_name": "Python 3"
    },
    "language_info": {
      "name": "python"
    }
  },
  "cells": [
    {
      "cell_type": "markdown",
      "metadata": {
        "id": "view-in-github",
        "colab_type": "text"
      },
      "source": [
        "<a href=\"https://colab.research.google.com/github/nickrolen/data-wrangling/blob/main/Module_3_Project.ipynb\" target=\"_parent\"><img src=\"https://colab.research.google.com/assets/colab-badge.svg\" alt=\"Open In Colab\"/></a>"
      ]
    },
    {
      "cell_type": "code",
      "execution_count": 5,
      "metadata": {
        "id": "4OkkpllGaHBm"
      },
      "outputs": [],
      "source": [
        "import numpy as np\n",
        "import matplotlib.pyplot as plt\n",
        "import pandas as pd"
      ]
    },
    {
      "cell_type": "markdown",
      "source": [
        "We'll start by importing the dataset as a CSV file. The original dataset had spaces in the category names, so I edited them to underscores beforehand so I can work with them in Python."
      ],
      "metadata": {
        "id": "I4ItXK5pTeZL"
      }
    },
    {
      "cell_type": "code",
      "source": [
        "crimestats = pd.read_csv('phxcrimedata1.csv')"
      ],
      "metadata": {
        "id": "r_nj2MKtruBy"
      },
      "execution_count": null,
      "outputs": []
    },
    {
      "cell_type": "code",
      "source": [
        "crimestats"
      ],
      "metadata": {
        "colab": {
          "base_uri": "https://localhost:8080/",
          "height": 589
        },
        "id": "KBAUnIsjr1Cp",
        "outputId": "351c3438-644c-4d15-b676-98815308ff4d"
      },
      "execution_count": 21,
      "outputs": [
        {
          "output_type": "execute_result",
          "data": {
            "text/plain": [
              "           _id       INC_NUMBER        OCCURRED_ON        OCCURRED_TO  \\\n",
              "0            1  201500002101405  11/01/2015  00:00  11/01/2015  05:00   \n",
              "1            2  201500002168686  11/01/2015  00:00  11/11/2015  09:30   \n",
              "2            3  201500002102327  11/01/2015  00:00  11/01/2015  09:00   \n",
              "3            4  201600000052855  11/01/2015  00:00  01/09/2016  00:00   \n",
              "4            5  201600000527709  11/01/2015  00:00  03/22/2016  00:36   \n",
              "...        ...              ...                ...                ...   \n",
              "528422  528423  202400000254051  02/19/2024  23:00  02/20/2024  09:00   \n",
              "528423  528424  202400000268004  02/19/2024  23:00                NaN   \n",
              "528424  528425  202400000252611  02/19/2024  23:14                NaN   \n",
              "528425  528426  202400000258737  02/19/2024  23:30  02/21/2024  00:00   \n",
              "528426  528427  202400000278264  02/19/2024  23:30  02/20/2024  08:15   \n",
              "\n",
              "         UCR_CRIME_CATEGORY            100 BLOCK ADDR      ZIP  \\\n",
              "0       MOTOR VEHICLE THEFT       102XX W MEDLOCK AVE  85307.0   \n",
              "1             LARCENY-THEFT       14XX E HIGHLAND AVE  85014.0   \n",
              "2             LARCENY-THEFT            51XX N 15TH ST  85014.0   \n",
              "3       MOTOR VEHICLE THEFT  N 43RD AVE & W CACTUS RD  85029.0   \n",
              "4             LARCENY-THEFT       33XX W CAMELBACK RD  85017.0   \n",
              "...                     ...                       ...      ...   \n",
              "528422        LARCENY-THEFT            14XX E BELL RD  85022.0   \n",
              "528423                 RAPE       96XX N METRO PKWY W  85051.0   \n",
              "528424   AGGRAVATED ASSAULT            10XX N 24TH ST  85006.0   \n",
              "528425  MOTOR VEHICLE THEFT       40XX W BUCKSKIN TRL  85083.0   \n",
              "528426        LARCENY-THEFT           146XX N 30TH DR  85053.0   \n",
              "\n",
              "                        PREMISE_TYPE   GRID  \n",
              "0                SINGLE FAMILY HOUSE   BJ04  \n",
              "1                        PARKING LOT   BI30  \n",
              "2                          APARTMENT   BJ30  \n",
              "3                SINGLE FAMILY HOUSE   DA19  \n",
              "4                        PARKING LOT   BJ21  \n",
              "...                              ...    ...  \n",
              "528422                   PARKING LOT   DH30  \n",
              "528423  GOVERNMENT / PUBLIC BUILDING   CH22  \n",
              "528424                   PARKING LOT  BC32B  \n",
              "528425                      DRIVEWAY   EH19  \n",
              "528426           SINGLE FAMILY HOUSE   DE22  \n",
              "\n",
              "[528427 rows x 9 columns]"
            ],
            "text/html": [
              "\n",
              "  <div id=\"df-e15e8134-c26c-41e1-aeee-5f034957f9ea\" class=\"colab-df-container\">\n",
              "    <div>\n",
              "<style scoped>\n",
              "    .dataframe tbody tr th:only-of-type {\n",
              "        vertical-align: middle;\n",
              "    }\n",
              "\n",
              "    .dataframe tbody tr th {\n",
              "        vertical-align: top;\n",
              "    }\n",
              "\n",
              "    .dataframe thead th {\n",
              "        text-align: right;\n",
              "    }\n",
              "</style>\n",
              "<table border=\"1\" class=\"dataframe\">\n",
              "  <thead>\n",
              "    <tr style=\"text-align: right;\">\n",
              "      <th></th>\n",
              "      <th>_id</th>\n",
              "      <th>INC_NUMBER</th>\n",
              "      <th>OCCURRED_ON</th>\n",
              "      <th>OCCURRED_TO</th>\n",
              "      <th>UCR_CRIME_CATEGORY</th>\n",
              "      <th>100 BLOCK ADDR</th>\n",
              "      <th>ZIP</th>\n",
              "      <th>PREMISE_TYPE</th>\n",
              "      <th>GRID</th>\n",
              "    </tr>\n",
              "  </thead>\n",
              "  <tbody>\n",
              "    <tr>\n",
              "      <th>0</th>\n",
              "      <td>1</td>\n",
              "      <td>201500002101405</td>\n",
              "      <td>11/01/2015  00:00</td>\n",
              "      <td>11/01/2015  05:00</td>\n",
              "      <td>MOTOR VEHICLE THEFT</td>\n",
              "      <td>102XX W MEDLOCK AVE</td>\n",
              "      <td>85307.0</td>\n",
              "      <td>SINGLE FAMILY HOUSE</td>\n",
              "      <td>BJ04</td>\n",
              "    </tr>\n",
              "    <tr>\n",
              "      <th>1</th>\n",
              "      <td>2</td>\n",
              "      <td>201500002168686</td>\n",
              "      <td>11/01/2015  00:00</td>\n",
              "      <td>11/11/2015  09:30</td>\n",
              "      <td>LARCENY-THEFT</td>\n",
              "      <td>14XX E HIGHLAND AVE</td>\n",
              "      <td>85014.0</td>\n",
              "      <td>PARKING LOT</td>\n",
              "      <td>BI30</td>\n",
              "    </tr>\n",
              "    <tr>\n",
              "      <th>2</th>\n",
              "      <td>3</td>\n",
              "      <td>201500002102327</td>\n",
              "      <td>11/01/2015  00:00</td>\n",
              "      <td>11/01/2015  09:00</td>\n",
              "      <td>LARCENY-THEFT</td>\n",
              "      <td>51XX N 15TH ST</td>\n",
              "      <td>85014.0</td>\n",
              "      <td>APARTMENT</td>\n",
              "      <td>BJ30</td>\n",
              "    </tr>\n",
              "    <tr>\n",
              "      <th>3</th>\n",
              "      <td>4</td>\n",
              "      <td>201600000052855</td>\n",
              "      <td>11/01/2015  00:00</td>\n",
              "      <td>01/09/2016  00:00</td>\n",
              "      <td>MOTOR VEHICLE THEFT</td>\n",
              "      <td>N 43RD AVE &amp; W CACTUS RD</td>\n",
              "      <td>85029.0</td>\n",
              "      <td>SINGLE FAMILY HOUSE</td>\n",
              "      <td>DA19</td>\n",
              "    </tr>\n",
              "    <tr>\n",
              "      <th>4</th>\n",
              "      <td>5</td>\n",
              "      <td>201600000527709</td>\n",
              "      <td>11/01/2015  00:00</td>\n",
              "      <td>03/22/2016  00:36</td>\n",
              "      <td>LARCENY-THEFT</td>\n",
              "      <td>33XX W CAMELBACK RD</td>\n",
              "      <td>85017.0</td>\n",
              "      <td>PARKING LOT</td>\n",
              "      <td>BJ21</td>\n",
              "    </tr>\n",
              "    <tr>\n",
              "      <th>...</th>\n",
              "      <td>...</td>\n",
              "      <td>...</td>\n",
              "      <td>...</td>\n",
              "      <td>...</td>\n",
              "      <td>...</td>\n",
              "      <td>...</td>\n",
              "      <td>...</td>\n",
              "      <td>...</td>\n",
              "      <td>...</td>\n",
              "    </tr>\n",
              "    <tr>\n",
              "      <th>528422</th>\n",
              "      <td>528423</td>\n",
              "      <td>202400000254051</td>\n",
              "      <td>02/19/2024  23:00</td>\n",
              "      <td>02/20/2024  09:00</td>\n",
              "      <td>LARCENY-THEFT</td>\n",
              "      <td>14XX E BELL RD</td>\n",
              "      <td>85022.0</td>\n",
              "      <td>PARKING LOT</td>\n",
              "      <td>DH30</td>\n",
              "    </tr>\n",
              "    <tr>\n",
              "      <th>528423</th>\n",
              "      <td>528424</td>\n",
              "      <td>202400000268004</td>\n",
              "      <td>02/19/2024  23:00</td>\n",
              "      <td>NaN</td>\n",
              "      <td>RAPE</td>\n",
              "      <td>96XX N METRO PKWY W</td>\n",
              "      <td>85051.0</td>\n",
              "      <td>GOVERNMENT / PUBLIC BUILDING</td>\n",
              "      <td>CH22</td>\n",
              "    </tr>\n",
              "    <tr>\n",
              "      <th>528424</th>\n",
              "      <td>528425</td>\n",
              "      <td>202400000252611</td>\n",
              "      <td>02/19/2024  23:14</td>\n",
              "      <td>NaN</td>\n",
              "      <td>AGGRAVATED ASSAULT</td>\n",
              "      <td>10XX N 24TH ST</td>\n",
              "      <td>85006.0</td>\n",
              "      <td>PARKING LOT</td>\n",
              "      <td>BC32B</td>\n",
              "    </tr>\n",
              "    <tr>\n",
              "      <th>528425</th>\n",
              "      <td>528426</td>\n",
              "      <td>202400000258737</td>\n",
              "      <td>02/19/2024  23:30</td>\n",
              "      <td>02/21/2024  00:00</td>\n",
              "      <td>MOTOR VEHICLE THEFT</td>\n",
              "      <td>40XX W BUCKSKIN TRL</td>\n",
              "      <td>85083.0</td>\n",
              "      <td>DRIVEWAY</td>\n",
              "      <td>EH19</td>\n",
              "    </tr>\n",
              "    <tr>\n",
              "      <th>528426</th>\n",
              "      <td>528427</td>\n",
              "      <td>202400000278264</td>\n",
              "      <td>02/19/2024  23:30</td>\n",
              "      <td>02/20/2024  08:15</td>\n",
              "      <td>LARCENY-THEFT</td>\n",
              "      <td>146XX N 30TH DR</td>\n",
              "      <td>85053.0</td>\n",
              "      <td>SINGLE FAMILY HOUSE</td>\n",
              "      <td>DE22</td>\n",
              "    </tr>\n",
              "  </tbody>\n",
              "</table>\n",
              "<p>528427 rows × 9 columns</p>\n",
              "</div>\n",
              "    <div class=\"colab-df-buttons\">\n",
              "\n",
              "  <div class=\"colab-df-container\">\n",
              "    <button class=\"colab-df-convert\" onclick=\"convertToInteractive('df-e15e8134-c26c-41e1-aeee-5f034957f9ea')\"\n",
              "            title=\"Convert this dataframe to an interactive table.\"\n",
              "            style=\"display:none;\">\n",
              "\n",
              "  <svg xmlns=\"http://www.w3.org/2000/svg\" height=\"24px\" viewBox=\"0 -960 960 960\">\n",
              "    <path d=\"M120-120v-720h720v720H120Zm60-500h600v-160H180v160Zm220 220h160v-160H400v160Zm0 220h160v-160H400v160ZM180-400h160v-160H180v160Zm440 0h160v-160H620v160ZM180-180h160v-160H180v160Zm440 0h160v-160H620v160Z\"/>\n",
              "  </svg>\n",
              "    </button>\n",
              "\n",
              "  <style>\n",
              "    .colab-df-container {\n",
              "      display:flex;\n",
              "      gap: 12px;\n",
              "    }\n",
              "\n",
              "    .colab-df-convert {\n",
              "      background-color: #E8F0FE;\n",
              "      border: none;\n",
              "      border-radius: 50%;\n",
              "      cursor: pointer;\n",
              "      display: none;\n",
              "      fill: #1967D2;\n",
              "      height: 32px;\n",
              "      padding: 0 0 0 0;\n",
              "      width: 32px;\n",
              "    }\n",
              "\n",
              "    .colab-df-convert:hover {\n",
              "      background-color: #E2EBFA;\n",
              "      box-shadow: 0px 1px 2px rgba(60, 64, 67, 0.3), 0px 1px 3px 1px rgba(60, 64, 67, 0.15);\n",
              "      fill: #174EA6;\n",
              "    }\n",
              "\n",
              "    .colab-df-buttons div {\n",
              "      margin-bottom: 4px;\n",
              "    }\n",
              "\n",
              "    [theme=dark] .colab-df-convert {\n",
              "      background-color: #3B4455;\n",
              "      fill: #D2E3FC;\n",
              "    }\n",
              "\n",
              "    [theme=dark] .colab-df-convert:hover {\n",
              "      background-color: #434B5C;\n",
              "      box-shadow: 0px 1px 3px 1px rgba(0, 0, 0, 0.15);\n",
              "      filter: drop-shadow(0px 1px 2px rgba(0, 0, 0, 0.3));\n",
              "      fill: #FFFFFF;\n",
              "    }\n",
              "  </style>\n",
              "\n",
              "    <script>\n",
              "      const buttonEl =\n",
              "        document.querySelector('#df-e15e8134-c26c-41e1-aeee-5f034957f9ea button.colab-df-convert');\n",
              "      buttonEl.style.display =\n",
              "        google.colab.kernel.accessAllowed ? 'block' : 'none';\n",
              "\n",
              "      async function convertToInteractive(key) {\n",
              "        const element = document.querySelector('#df-e15e8134-c26c-41e1-aeee-5f034957f9ea');\n",
              "        const dataTable =\n",
              "          await google.colab.kernel.invokeFunction('convertToInteractive',\n",
              "                                                    [key], {});\n",
              "        if (!dataTable) return;\n",
              "\n",
              "        const docLinkHtml = 'Like what you see? Visit the ' +\n",
              "          '<a target=\"_blank\" href=https://colab.research.google.com/notebooks/data_table.ipynb>data table notebook</a>'\n",
              "          + ' to learn more about interactive tables.';\n",
              "        element.innerHTML = '';\n",
              "        dataTable['output_type'] = 'display_data';\n",
              "        await google.colab.output.renderOutput(dataTable, element);\n",
              "        const docLink = document.createElement('div');\n",
              "        docLink.innerHTML = docLinkHtml;\n",
              "        element.appendChild(docLink);\n",
              "      }\n",
              "    </script>\n",
              "  </div>\n",
              "\n",
              "\n",
              "<div id=\"df-058b8942-4b17-4236-a304-99ea27e9d54d\">\n",
              "  <button class=\"colab-df-quickchart\" onclick=\"quickchart('df-058b8942-4b17-4236-a304-99ea27e9d54d')\"\n",
              "            title=\"Suggest charts\"\n",
              "            style=\"display:none;\">\n",
              "\n",
              "<svg xmlns=\"http://www.w3.org/2000/svg\" height=\"24px\"viewBox=\"0 0 24 24\"\n",
              "     width=\"24px\">\n",
              "    <g>\n",
              "        <path d=\"M19 3H5c-1.1 0-2 .9-2 2v14c0 1.1.9 2 2 2h14c1.1 0 2-.9 2-2V5c0-1.1-.9-2-2-2zM9 17H7v-7h2v7zm4 0h-2V7h2v10zm4 0h-2v-4h2v4z\"/>\n",
              "    </g>\n",
              "</svg>\n",
              "  </button>\n",
              "\n",
              "<style>\n",
              "  .colab-df-quickchart {\n",
              "      --bg-color: #E8F0FE;\n",
              "      --fill-color: #1967D2;\n",
              "      --hover-bg-color: #E2EBFA;\n",
              "      --hover-fill-color: #174EA6;\n",
              "      --disabled-fill-color: #AAA;\n",
              "      --disabled-bg-color: #DDD;\n",
              "  }\n",
              "\n",
              "  [theme=dark] .colab-df-quickchart {\n",
              "      --bg-color: #3B4455;\n",
              "      --fill-color: #D2E3FC;\n",
              "      --hover-bg-color: #434B5C;\n",
              "      --hover-fill-color: #FFFFFF;\n",
              "      --disabled-bg-color: #3B4455;\n",
              "      --disabled-fill-color: #666;\n",
              "  }\n",
              "\n",
              "  .colab-df-quickchart {\n",
              "    background-color: var(--bg-color);\n",
              "    border: none;\n",
              "    border-radius: 50%;\n",
              "    cursor: pointer;\n",
              "    display: none;\n",
              "    fill: var(--fill-color);\n",
              "    height: 32px;\n",
              "    padding: 0;\n",
              "    width: 32px;\n",
              "  }\n",
              "\n",
              "  .colab-df-quickchart:hover {\n",
              "    background-color: var(--hover-bg-color);\n",
              "    box-shadow: 0 1px 2px rgba(60, 64, 67, 0.3), 0 1px 3px 1px rgba(60, 64, 67, 0.15);\n",
              "    fill: var(--button-hover-fill-color);\n",
              "  }\n",
              "\n",
              "  .colab-df-quickchart-complete:disabled,\n",
              "  .colab-df-quickchart-complete:disabled:hover {\n",
              "    background-color: var(--disabled-bg-color);\n",
              "    fill: var(--disabled-fill-color);\n",
              "    box-shadow: none;\n",
              "  }\n",
              "\n",
              "  .colab-df-spinner {\n",
              "    border: 2px solid var(--fill-color);\n",
              "    border-color: transparent;\n",
              "    border-bottom-color: var(--fill-color);\n",
              "    animation:\n",
              "      spin 1s steps(1) infinite;\n",
              "  }\n",
              "\n",
              "  @keyframes spin {\n",
              "    0% {\n",
              "      border-color: transparent;\n",
              "      border-bottom-color: var(--fill-color);\n",
              "      border-left-color: var(--fill-color);\n",
              "    }\n",
              "    20% {\n",
              "      border-color: transparent;\n",
              "      border-left-color: var(--fill-color);\n",
              "      border-top-color: var(--fill-color);\n",
              "    }\n",
              "    30% {\n",
              "      border-color: transparent;\n",
              "      border-left-color: var(--fill-color);\n",
              "      border-top-color: var(--fill-color);\n",
              "      border-right-color: var(--fill-color);\n",
              "    }\n",
              "    40% {\n",
              "      border-color: transparent;\n",
              "      border-right-color: var(--fill-color);\n",
              "      border-top-color: var(--fill-color);\n",
              "    }\n",
              "    60% {\n",
              "      border-color: transparent;\n",
              "      border-right-color: var(--fill-color);\n",
              "    }\n",
              "    80% {\n",
              "      border-color: transparent;\n",
              "      border-right-color: var(--fill-color);\n",
              "      border-bottom-color: var(--fill-color);\n",
              "    }\n",
              "    90% {\n",
              "      border-color: transparent;\n",
              "      border-bottom-color: var(--fill-color);\n",
              "    }\n",
              "  }\n",
              "</style>\n",
              "\n",
              "  <script>\n",
              "    async function quickchart(key) {\n",
              "      const quickchartButtonEl =\n",
              "        document.querySelector('#' + key + ' button');\n",
              "      quickchartButtonEl.disabled = true;  // To prevent multiple clicks.\n",
              "      quickchartButtonEl.classList.add('colab-df-spinner');\n",
              "      try {\n",
              "        const charts = await google.colab.kernel.invokeFunction(\n",
              "            'suggestCharts', [key], {});\n",
              "      } catch (error) {\n",
              "        console.error('Error during call to suggestCharts:', error);\n",
              "      }\n",
              "      quickchartButtonEl.classList.remove('colab-df-spinner');\n",
              "      quickchartButtonEl.classList.add('colab-df-quickchart-complete');\n",
              "    }\n",
              "    (() => {\n",
              "      let quickchartButtonEl =\n",
              "        document.querySelector('#df-058b8942-4b17-4236-a304-99ea27e9d54d button');\n",
              "      quickchartButtonEl.style.display =\n",
              "        google.colab.kernel.accessAllowed ? 'block' : 'none';\n",
              "    })();\n",
              "  </script>\n",
              "</div>\n",
              "    </div>\n",
              "  </div>\n"
            ],
            "application/vnd.google.colaboratory.intrinsic+json": {
              "type": "dataframe",
              "variable_name": "crimestats"
            }
          },
          "metadata": {},
          "execution_count": 21
        }
      ]
    },
    {
      "cell_type": "markdown",
      "source": [
        "Now, we'll get some basic descriptive information on the dataset."
      ],
      "metadata": {
        "id": "A8HhmDEJTvIs"
      }
    },
    {
      "cell_type": "code",
      "source": [
        "crimestats.info()"
      ],
      "metadata": {
        "colab": {
          "base_uri": "https://localhost:8080/"
        },
        "id": "wzINxa6csGyN",
        "outputId": "31ec30c9-45bb-4630-baeb-dc4573dbabd7"
      },
      "execution_count": 22,
      "outputs": [
        {
          "output_type": "stream",
          "name": "stdout",
          "text": [
            "<class 'pandas.core.frame.DataFrame'>\n",
            "RangeIndex: 528427 entries, 0 to 528426\n",
            "Data columns (total 9 columns):\n",
            " #   Column              Non-Null Count   Dtype  \n",
            "---  ------              --------------   -----  \n",
            " 0   _id                 528427 non-null  int64  \n",
            " 1   INC_NUMBER          528427 non-null  object \n",
            " 2   OCCURRED_ON         528008 non-null  object \n",
            " 3   OCCURRED_TO         340233 non-null  object \n",
            " 4   UCR_CRIME_CATEGORY  528427 non-null  object \n",
            " 5   100 BLOCK ADDR      528427 non-null  object \n",
            " 6   ZIP                 528421 non-null  float64\n",
            " 7   PREMISE_TYPE        524907 non-null  object \n",
            " 8   GRID                526988 non-null  object \n",
            "dtypes: float64(1), int64(1), object(7)\n",
            "memory usage: 36.3+ MB\n"
          ]
        }
      ]
    },
    {
      "cell_type": "code",
      "source": [
        "crimestats.nunique()"
      ],
      "metadata": {
        "colab": {
          "base_uri": "https://localhost:8080/"
        },
        "id": "UfUK8XkqsKSX",
        "outputId": "068dbd35-04c3-43e5-b112-9d29fd3a6a13"
      },
      "execution_count": 23,
      "outputs": [
        {
          "output_type": "execute_result",
          "data": {
            "text/plain": [
              "_id                   528427\n",
              "INC_NUMBER            528422\n",
              "OCCURRED_ON           335820\n",
              "OCCURRED_TO           248011\n",
              "UCR_CRIME_CATEGORY         9\n",
              "100 BLOCK ADDR         48187\n",
              "ZIP                      117\n",
              "PREMISE_TYPE              98\n",
              "GRID                    1783\n",
              "dtype: int64"
            ]
          },
          "metadata": {},
          "execution_count": 23
        }
      ]
    },
    {
      "cell_type": "markdown",
      "source": [
        "Here, I am choosing to group crimes by category of crime to first see which types of crimes are most commony popping up in this dataset."
      ],
      "metadata": {
        "id": "6lEtTvVrSAzD"
      }
    },
    {
      "cell_type": "code",
      "source": [
        "crimestats.UCR_CRIME_CATEGORY.value_counts()"
      ],
      "metadata": {
        "colab": {
          "base_uri": "https://localhost:8080/"
        },
        "id": "SlBs3QYusUYk",
        "outputId": "f9805fe6-eea3-4486-838c-ce8f3c49565e"
      },
      "execution_count": 24,
      "outputs": [
        {
          "output_type": "execute_result",
          "data": {
            "text/plain": [
              "LARCENY-THEFT                            268897\n",
              "BURGLARY                                  67736\n",
              "MOTOR VEHICLE THEFT                       60535\n",
              "DRUG OFFENSE                              48112\n",
              "AGGRAVATED ASSAULT                        47967\n",
              "ROBBERY                                   20786\n",
              "RAPE                                       8148\n",
              "ARSON                                      4886\n",
              "MURDER AND NON-NEGLIGENT MANSLAUGHTER      1360\n",
              "Name: UCR_CRIME_CATEGORY, dtype: int64"
            ]
          },
          "metadata": {},
          "execution_count": 24
        }
      ]
    },
    {
      "cell_type": "code",
      "source": [
        "crimestats.UCR_CRIME_CATEGORY.value_counts().plot.bar()"
      ],
      "metadata": {
        "colab": {
          "base_uri": "https://localhost:8080/",
          "height": 770
        },
        "id": "Z9a-bifBsd9q",
        "outputId": "1866902d-0e6a-4674-c992-060338f55db0"
      },
      "execution_count": 26,
      "outputs": [
        {
          "output_type": "execute_result",
          "data": {
            "text/plain": [
              "<Axes: >"
            ]
          },
          "metadata": {},
          "execution_count": 26
        },
        {
          "output_type": "display_data",
          "data": {
            "text/plain": [
              "<Figure size 640x480 with 1 Axes>"
            ],
            "image/png": "[encoded data removed]"
          },
          "metadata": {}
        }
      ]
    },
    {
      "cell_type": "markdown",
      "source": [
        "As we can see from this bar chart, larceny/theft is by far and away the most commonly seen category of crime in this dataset."
      ],
      "metadata": {
        "id": "iJPwJ_tXSlFH"
      }
    },
    {
      "cell_type": "markdown",
      "source": [
        "Now, I will use the groupby function to group the data by crime category, so I can get the value counts for crime category across the premise type variable so I can see which types of premises yield the most crimes for each category of crime."
      ],
      "metadata": {
        "id": "sHDpLW8-Wem3"
      }
    },
    {
      "cell_type": "code",
      "source": [
        "cscrimetype = crimestats.groupby(['UCR_CRIME_CATEGORY'])\n",
        "type(cscrimetype)"
      ],
      "metadata": {
        "id": "C6TMpcDMwWKM"
      },
      "execution_count": null,
      "outputs": []
    },
    {
      "cell_type": "code",
      "source": [
        "cscrimetype.PREMISE_TYPE.value_counts()"
      ],
      "metadata": {
        "colab": {
          "base_uri": "https://localhost:8080/"
        },
        "id": "TFHT3ovIUEm_",
        "outputId": "54758bcc-458e-456e-b786-167aad129d4e"
      },
      "execution_count": 37,
      "outputs": [
        {
          "output_type": "execute_result",
          "data": {
            "text/plain": [
              "UCR_CRIME_CATEGORY  PREMISE_TYPE                       \n",
              "AGGRAVATED ASSAULT  APARTMENT                              12030\n",
              "                    SINGLE FAMILY HOUSE                     9215\n",
              "                    STREET / ROADWAY / SIDEWALK             5945\n",
              "                    STREET / ROADWAY / ALLEY / SIDEWALK     5157\n",
              "                    CONVENIENCE MARKET / STORE              1512\n",
              "                                                           ...  \n",
              "ROBBERY             RAIL STATION                               1\n",
              "                    RAIL STOP                                  1\n",
              "                    REST AREA                                  1\n",
              "                    STOREROOM/SHED (COMMERCIAL)                1\n",
              "                    THEATRE                                    1\n",
              "Name: PREMISE_TYPE, Length: 707, dtype: int64"
            ]
          },
          "metadata": {},
          "execution_count": 37
        }
      ]
    },
    {
      "cell_type": "markdown",
      "source": [
        "This list tells us which types of premises are seeing the most types of specific crimes. As we can see, there were more aggravated assaults in apartments than any other type of premises."
      ],
      "metadata": {
        "id": "kYY-D7axaZlK"
      }
    },
    {
      "cell_type": "markdown",
      "source": [
        "Next, I will get the value counts for crime category across ZIP codes to see which ZIP codes yield the most crimes for each category of crime. I will change the ZIP variable type from a string to a float as these are two categorical variables I am dealing with."
      ],
      "metadata": {
        "id": "yM-M6qPIa1K5"
      }
    },
    {
      "cell_type": "code",
      "source": [
        "str(crimestats.ZIP)\n",
        "cscrimetype.ZIP.value_counts()"
      ],
      "metadata": {
        "colab": {
          "base_uri": "https://localhost:8080/"
        },
        "id": "VSfHZR3DbcA7",
        "outputId": "50967b0d-fcc5-42e1-f70d-cabea10ea344"
      },
      "execution_count": 48,
      "outputs": [
        {
          "output_type": "execute_result",
          "data": {
            "text/plain": [
              "UCR_CRIME_CATEGORY  ZIP    \n",
              "AGGRAVATED ASSAULT  85015.0    2484\n",
              "                    85017.0    2466\n",
              "                    85008.0    2455\n",
              "                    85009.0    2445\n",
              "                    85051.0    2182\n",
              "                               ... \n",
              "ROBBERY             85303.0       1\n",
              "                    85337.0       1\n",
              "                    85338.0       1\n",
              "                    85345.0       1\n",
              "                    85383.0       1\n",
              "Name: ZIP, Length: 690, dtype: int64"
            ]
          },
          "metadata": {},
          "execution_count": 48
        }
      ]
    },
    {
      "cell_type": "markdown",
      "source": [
        "As we can see, there were more aggravated assaults in 85015 than any other zip code."
      ],
      "metadata": {
        "id": "bX-YVEMPbmOZ"
      }
    }
  ]
}